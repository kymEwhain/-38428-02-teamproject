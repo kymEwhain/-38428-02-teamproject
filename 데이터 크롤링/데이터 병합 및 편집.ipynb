{
 "cells": [
  {
   "cell_type": "code",
   "execution_count": 5,
   "id": "ee808cff-ae8b-4037-9064-d6f6feeaa5dc",
   "metadata": {},
   "outputs": [
    {
     "name": "stdout",
     "output_type": "stream",
     "text": [
      "파일이 성공적으로 저장되었습니다: merged_catcher.csv\n"
     ]
    }
   ],
   "source": [
    "import pandas as pd\n",
    "\n",
    "# 파일 경로 설정\n",
    "old_catcher_path = \"old_catcher_stats.csv\"  # old_catcher 파일 경로\n",
    "catcher_path = \"catcher_stats.csv\"         # catcher 파일 경로\n",
    "output_path = \"merged_catcher.csv\"   # 병합된 결과 파일 경로\n",
    "\n",
    "# CSV 파일 읽기\n",
    "old_catcher = pd.read_csv(old_catcher_path)\n",
    "catcher = pd.read_csv(catcher_path)\n",
    "\n",
    "# 각 데이터프레임에 '포지션' 열 추ㅁ가\n",
    "old_catcher['포지션'] = 2\n",
    "catcher['포지션'] = 2\n",
    "#투수 1, 포수 2, 내야수 3, 외야수 4\n",
    "\n",
    "# 두 데이터프레임 병합\n",
    "merged_df = pd.concat([old_catcher, catcher], ignore_index=True)\n",
    "\n",
    "# 팀 이름 순, 선수 이름 순 정렬\n",
    "merged_df = merged_df.sort_values(by=['현재 소속팀', '선수명']).reset_index(drop=True)\n",
    "\n",
    "# 병합된 데이터 저장\n",
    "merged_df.to_csv(output_path, index=False)\n",
    "\n",
    "print(f\"파일이 성공적으로 저장되었습니다: {output_path}\")\n"
   ]
  },
  {
   "cell_type": "code",
   "execution_count": 6,
   "id": "cd0bd7ee-4c4d-41e7-bc7f-eb185214e8b8",
   "metadata": {},
   "outputs": [
    {
     "name": "stdout",
     "output_type": "stream",
     "text": [
      "연도 형식이 성공적으로 수정되었습니다.\n",
      "수정된 파일이 저장되었습니다: merged_pitcher_fix.csv\n"
     ]
    }
   ],
   "source": [
    "import pandas as pd\n",
    "\n",
    "# 파일 경로 설정\n",
    "file_path = \"merged_pitcher.csv\"  # 원본 CSV 파일\n",
    "output_path = \"merged_pitcher_fix.csv\"  # 수정된 파일 저장 경로\n",
    "\n",
    "# CSV 파일 읽기\n",
    "try:\n",
    "    df = pd.read_csv(file_path)\n",
    "except Exception as e:\n",
    "    print(f\"파일 읽기 오류: {e}\")\n",
    "    raise\n",
    "\n",
    "# 연도 열 이름 설정\n",
    "year_column = \"연도\"\n",
    "\n",
    "if year_column in df.columns:\n",
    "    # 연도 데이터를 안전하게 변환\n",
    "    def clean_year(value):\n",
    "        try:\n",
    "            return int(str(value).split(\".\")[0])  # 소수점 제거 후 정수로 변환\n",
    "        except:\n",
    "            return None  # 변환 불가능한 값은 None으로 처리\n",
    "\n",
    "    # '연도' 열 정리\n",
    "    df[year_column] = df[year_column].apply(clean_year)\n",
    "\n",
    "    # 변환 불가능한 값 제거\n",
    "    df = df.dropna(subset=[year_column])  # None 값 제거\n",
    "    df[year_column] = df[year_column].astype(int)  # 다시 정수로 변환\n",
    "    print(\"연도 형식이 성공적으로 수정되었습니다.\")\n",
    "else:\n",
    "    print(f\"'{year_column}' 열이 데이터프레임에 없습니다. 열 이름을 확인해주세요.\")\n",
    "\n",
    "# 수정된 데이터를 새로운 파일로 저장\n",
    "try:\n",
    "    df.to_csv(output_path, index=False)\n",
    "    print(f\"수정된 파일이 저장되었습니다: {output_path}\")\n",
    "except Exception as e:\n",
    "    print(f\"파일 저장 오류: {e}\")\n",
    "    raise\n"
   ]
  },
  {
   "cell_type": "code",
   "execution_count": 7,
   "id": "040686d8-866b-4484-9c4d-cbc725eecfda",
   "metadata": {},
   "outputs": [
    {
     "name": "stdout",
     "output_type": "stream",
     "text": [
      "2019년 이상 데이터가 성공적으로 저장되었습니다: 5year.csv\n",
      "2021년 이상 데이터가 성공적으로 저장되었습니다: 3year.csv\n"
     ]
    }
   ],
   "source": [
    "import pandas as pd\n",
    "\n",
    "# 파일 경로 설정\n",
    "catcher_path = \"merged_catcher.csv\"\n",
    "infielder_path = \"merged_infielder.csv\"\n",
    "outfielder_path = \"merged_outfielder.csv\"\n",
    "\n",
    "# 출력 파일 경로\n",
    "output_2019_path = \"5year.csv\"\n",
    "output_2021_path = \"3year.csv\"\n",
    "\n",
    "# 파일 읽기\n",
    "catcher = pd.read_csv(catcher_path)\n",
    "infielder = pd.read_csv(infielder_path)\n",
    "outfielder = pd.read_csv(outfielder_path)\n",
    "\n",
    "\n",
    "# 병합\n",
    "merged = pd.concat([catcher, infielder, outfielder], ignore_index=True)\n",
    "\n",
    "# '연도' 열 이름 확인 및 데이터 필터링\n",
    "year_column = \"연도\"\n",
    "\n",
    "if year_column in merged.columns:\n",
    "    # 연도를 정수로 변환 (소수점 제거 등 처리)\n",
    "    merged[year_column] = merged[year_column].apply(lambda x: int(str(x).split(\".\")[0]) if not pd.isna(x) else None)\n",
    "\n",
    "    # 조건에 따라 필터링\n",
    "    merged_2019 = merged[merged[year_column] >= 2019].sort_values(by=[\"현재 소속팀\", \"선수명\"])\n",
    "    merged_2021 = merged[merged[year_column] >= 2021].sort_values(by=[\"현재 소속팀\", \"선수명\"])\n",
    "\n",
    "    # 결과 저장\n",
    "    merged_2019.to_csv(output_2019_path, index=False)\n",
    "    merged_2021.to_csv(output_2021_path, index=False)\n",
    "\n",
    "    print(f\"2019년 이상 데이터가 성공적으로 저장되었습니다: {output_2019_path}\")\n",
    "    print(f\"2021년 이상 데이터가 성공적으로 저장되었습니다: {output_2021_path}\")\n",
    "else:\n",
    "    print(f\"'{year_column}' 열이 데이터프레임에 없습니다. 열 이름을 확인해주세요.\")\n"
   ]
  },
  {
   "cell_type": "code",
   "execution_count": 15,
   "id": "4d26644c-4a25-49f4-90bb-c2581a5df097",
   "metadata": {
    "scrolled": true
   },
   "outputs": [
    {
     "name": "stdout",
     "output_type": "stream",
     "text": [
      "중복된 데이터가 없습니다.\n"
     ]
    }
   ],
   "source": [
    "import pandas as pd\n",
    "\n",
    "# 파일 경로 설정\n",
    "pitcher_path = \"pitcher_5_year.csv\"  \n",
    "\n",
    "# 파일 읽기\n",
    "pitcher = pd.read_csv(pitcher_path)\n",
    "\n",
    "# '선수명', '연도', '당시 소속팀'이 같은 중복된 행 확인\n",
    "duplicates = pitcher[pitcher.duplicated(subset=['선수명', '연도', '당시 소속팀'], keep=False)]\n",
    "\n",
    "if not duplicates.empty:\n",
    "    print(\"중복된 데이터가 있습니다:\")\n",
    "    print(duplicates)\n",
    "else:\n",
    "    print(\"중복된 데이터가 없습니다.\")"
   ]
  }
 ],
 "metadata": {
  "kernelspec": {
   "display_name": "Python 3 (ipykernel)",
   "language": "python",
   "name": "python3"
  },
  "language_info": {
   "codemirror_mode": {
    "name": "ipython",
    "version": 3
   },
   "file_extension": ".py",
   "mimetype": "text/x-python",
   "name": "python",
   "nbconvert_exporter": "python",
   "pygments_lexer": "ipython3",
   "version": "3.12.4"
  }
 },
 "nbformat": 4,
 "nbformat_minor": 5
}
