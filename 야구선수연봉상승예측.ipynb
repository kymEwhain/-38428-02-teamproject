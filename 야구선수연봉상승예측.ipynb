{
  "nbformat": 4,
  "nbformat_minor": 0,
  "metadata": {
    "colab": {
      "provenance": [],
      "collapsed_sections": [
        "hKAmv8Py0xel",
        "oWPhbA4S07MI",
        "ktjPCalH1rZ1",
        "ryHmH4BA2u9j",
        "c9Ms5Wor2zgg",
        "2dxgHV3O4g7I",
        "_KBmiT8JBUwB",
        "_6bwIq0Y4lQ2"
      ],
      "authorship_tag": "ABX9TyMhAecXlXZPsDPyeJJs1+zA",
      "include_colab_link": true
    },
    "kernelspec": {
      "name": "python3",
      "display_name": "Python 3"
    },
    "language_info": {
      "name": "python"
    }
  },
  "cells": [
    {
      "cell_type": "markdown",
      "metadata": {
        "id": "view-in-github",
        "colab_type": "text"
      },
      "source": [
        "<a href=\"https://colab.research.google.com/github/kymEwhain/-38428-02-teamproject/blob/main/%EC%95%BC%EA%B5%AC%EC%84%A0%EC%88%98%EC%97%B0%EB%B4%89%EC%83%81%EC%8A%B9%EC%98%88%EC%B8%A1.ipynb\" target=\"_parent\"><img src=\"https://colab.research.google.com/assets/colab-badge.svg\" alt=\"Open In Colab\"/></a>"
      ]
    },
    {
      "cell_type": "markdown",
      "source": [
        "# TASK : 야구 선수(pitcher)의 한 해 동안의 성과 기록을 바탕으로 다음 해 연봉의 상승/하락(유지)을 예측한다."
      ],
      "metadata": {
        "id": "fl1sFM_-gH7j"
      }
    },
    {
      "cell_type": "markdown",
      "source": [
        "# **0. import**"
      ],
      "metadata": {
        "id": "hKAmv8Py0xel"
      }
    },
    {
      "cell_type": "code",
      "source": [
        "from google.colab import drive\n",
        "drive.mount('/content/drive')"
      ],
      "metadata": {
        "colab": {
          "base_uri": "https://localhost:8080/"
        },
        "id": "NX8wd7uD01eq",
        "outputId": "9fb98a34-ff65-4464-80d7-495ea2712a4e"
      },
      "execution_count": 1,
      "outputs": [
        {
          "output_type": "stream",
          "name": "stdout",
          "text": [
            "Mounted at /content/drive\n"
          ]
        }
      ]
    },
    {
      "cell_type": "code",
      "execution_count": 2,
      "metadata": {
        "id": "W63L3F000ujU"
      },
      "outputs": [],
      "source": [
        "import pandas as pd\n",
        "import numpy as np\n",
        "import matplotlib.pyplot as plt\n",
        "import seaborn as sns\n",
        "\n",
        "from sklearn.model_selection import train_test_split, cross_val_score, GridSearchCV, StratifiedKFold\n",
        "from sklearn.preprocessing import StandardScaler, LabelEncoder\n",
        "from sklearn.ensemble import RandomForestClassifier, GradientBoostingClassifier, VotingClassifier, StackingClassifier\n",
        "from sklearn.linear_model import LogisticRegression\n",
        "from sklearn.metrics import classification_report, accuracy_score, mean_squared_error, f1_score, recall_score, classification_report\n",
        "from imblearn.combine import SMOTEENN\n",
        "import xgboost as xgb\n"
      ]
    },
    {
      "cell_type": "markdown",
      "source": [
        "# 1. **Data Load**"
      ],
      "metadata": {
        "id": "oWPhbA4S07MI"
      }
    },
    {
      "cell_type": "code",
      "source": [
        "pitcher = pd.read_csv('/content/drive/MyDrive/Colab Notebooks/pitcher_data_without_2024.csv')\n",
        "fielder = pd.read_csv('/content/drive/MyDrive/Colab Notebooks/fielder_data_without_2024.csv')\n",
        "\n",
        "DATA = pd.concat([pitcher, fielder], ignore_index=True)"
      ],
      "metadata": {
        "id": "pNyW_15J3E6S"
      },
      "execution_count": 3,
      "outputs": []
    },
    {
      "cell_type": "markdown",
      "source": [
        "### 1-1. 데이터 전처리 및 피쳐 엔지니어링"
      ],
      "metadata": {
        "id": "lvN1rLZO1VNH"
      }
    },
    {
      "cell_type": "code",
      "source": [
        "# 팀 이름과 같은 문자열은 학습의 feature로 사용하기 위해 정수로 인코딩한다.\n",
        "label_encoder = LabelEncoder()\n",
        "DATA['Team'] = label_encoder.fit_transform(DATA['Team'])\n",
        "DATA['CurrentTeam'] = label_encoder.fit_transform(DATA['CurrentTeam'])\n",
        "DATA['Salary'] = pd.to_numeric(DATA['Salary'], errors='coerce')\n",
        "\n",
        "# 결측값 처리\n",
        "DATA.replace('-', pd.NA, inplace=True)\n",
        "numeric_cols = DATA.select_dtypes(include=['number']).columns\n",
        "DATA[numeric_cols] = DATA[numeric_cols].fillna(DATA[numeric_cols].mean())"
      ],
      "metadata": {
        "id": "rOiWn-Fg3ZmY"
      },
      "execution_count": 4,
      "outputs": []
    },
    {
      "cell_type": "markdown",
      "source": [
        "### 1-2. 상호작용 변수추가\n",
        "야구는 선수의 능력을 판가름하는 특징이 여러개이며, 또한 팀의 재정 상태, 계약 기간 등과 같은 외부 요인의 영향을 많이 받아 까다롭다.\n",
        "\n",
        "따라서 데이터셋의 기본 피쳐들을 활용하여 추가적인 특징으로 사용하기위해 선수들의 연봉, 나이가 팀에서 어떻게 작용하는지에 대한 변수를 추가하였다."
      ],
      "metadata": {
        "id": "WHZ-bNnb1j-m"
      }
    },
    {
      "cell_type": "code",
      "source": [
        "# 상호작용 변수 추가\n",
        "DATA['TeamTotalSalary'] = DATA.groupby(['Team', 'Year'])['Salary'].transform('sum')\n",
        "DATA['Team_Salary_Ratio'] = DATA['Salary'] / DATA['TeamTotalSalary']\n",
        "DATA['Age_WAR_Interaction'] = DATA['Age'] * DATA['WAR']\n",
        "DATA['Salary_TeamRatio_Interaction'] = DATA['Salary'] * DATA['Team_Salary_Ratio']"
      ],
      "metadata": {
        "id": "jwdqXG743nR1"
      },
      "execution_count": 5,
      "outputs": []
    },
    {
      "cell_type": "markdown",
      "source": [
        "# 2. **모델 학습**\n",
        "\n",
        "데이터의 feature는 총 63개이다.\n",
        "\n",
        "pitcher와 fielder의 공통된 피쳐 + 서로에게는 없는 각 포지션의 고유 피쳐를 모두 반영하여 모든 포지션에 대한 통합 예측 모델을 만들고자 함\n",
        "\n",
        "</br>\n",
        "\n",
        "2번 스텝에서는...\n",
        "\n",
        "1. 모든 피쳐를 활용해서 일반적인 모델 Logistic Regression 사용해본다.\n",
        "2. 모든 피쳐를 활용해서 XGBoost 모델을 사용해본다.\n",
        "- XGBoost 모델은 피쳐가 많은 데이터를 학습할 때 좋은 성능을 낸다고 알려져있음.\n"
      ],
      "metadata": {
        "id": "ktjPCalH1rZ1"
      }
    },
    {
      "cell_type": "code",
      "source": [
        "# 선수의 이름, Label, NextYearSalary는 학습 피쳐에서 제외한다.\n",
        "# 선수의 이름 => 인코딩 불가능\n",
        "# Label, NextYearSalary => 정답 누출의 가능성\n",
        "features_all = DATA.columns.drop(['Label', 'PlayerName', 'NextYearSalary'])\n",
        "\n",
        "X = DATA[features_all]\n",
        "y = DATA['Label']\n",
        "\n",
        "X_train, X_test, y_train, y_test = train_test_split(X, y, test_size=0.2, random_state=42, stratify=y)\n",
        "\n",
        "# 데이터 정규화\n",
        "scaler = StandardScaler()\n",
        "X_train = scaler.fit_transform(X_train)\n",
        "X_test = scaler.transform(X_test)\n",
        "\n",
        "# 클래스 불균형 처리\n",
        "# 클래스의 분포가 클래스 1이 더 많아서 불균등한 학습을 방지하기 위함임\n",
        "X_train_res, y_train_res = SMOTEENN(random_state=42).fit_resample(X_train, y_train)"
      ],
      "metadata": {
        "id": "Tch-TUEb31X7"
      },
      "execution_count": 6,
      "outputs": []
    },
    {
      "cell_type": "markdown",
      "source": [
        "(클래스 분포 살펴보기)"
      ],
      "metadata": {
        "id": "Dd34aruP5dIs"
      }
    },
    {
      "cell_type": "code",
      "source": [
        "class_counts_train = pd.Series(y_train_res).value_counts()\n",
        "class_counts_test = pd.Series(y_test).value_counts()\n",
        "print(f\"\\nClass Distribution in Training Data:\\n{class_counts_train}\")\n",
        "print(f\"Class Distribution in Test Data:\\n{class_counts_test}\")\n",
        "\n",
        "# 클래스에 따른 데이터 개수 분포 그래프 그리기\n",
        "plt.figure(figsize=(10, 5))\n",
        "sns.barplot(x=class_counts_train.index, y=class_counts_train.values, palette='viridis')\n",
        "plt.title('Class Distribution in Training Data')\n",
        "plt.xlabel('Class Label')\n",
        "plt.ylabel('Count')\n",
        "plt.grid(axis='y', linestyle='--', alpha=0.7)\n",
        "plt.show()\n"
      ],
      "metadata": {
        "colab": {
          "base_uri": "https://localhost:8080/",
          "height": 786
        },
        "id": "W7ia_XZb5VY9",
        "outputId": "e8d51c90-41b7-4f1f-ceed-44894aea192d"
      },
      "execution_count": 7,
      "outputs": [
        {
          "output_type": "stream",
          "name": "stdout",
          "text": [
            "\n",
            "Class Distribution in Training Data:\n",
            "Label\n",
            "1    481\n",
            "0    328\n",
            "Name: count, dtype: int64\n",
            "Class Distribution in Test Data:\n",
            "Label\n",
            "0    255\n",
            "1    205\n",
            "Name: count, dtype: int64\n"
          ]
        },
        {
          "output_type": "stream",
          "name": "stderr",
          "text": [
            "<ipython-input-7-6e33465b2b50>:8: FutureWarning: \n",
            "\n",
            "Passing `palette` without assigning `hue` is deprecated and will be removed in v0.14.0. Assign the `x` variable to `hue` and set `legend=False` for the same effect.\n",
            "\n",
            "  sns.barplot(x=class_counts_train.index, y=class_counts_train.values, palette='viridis')\n"
          ]
        },
        {
          "output_type": "display_data",
          "data": {
            "text/plain": [
              "<Figure size 1000x500 with 1 Axes>"
            ],
            "image/png": "[encoded data removed]"
          },
          "metadata": {}
        }
      ]
    },
    {
      "cell_type": "markdown",
      "source": [
        "### 2-1. 모든 피쳐를 사용하여 일반 회귀 학습"
      ],
      "metadata": {
        "id": "DtHT0tic1xAY"
      }
    },
    {
      "cell_type": "code",
      "source": [
        "# Logistic Regression 모델 학습\n",
        "logistic_model = LogisticRegression()\n",
        "logistic_model.fit(X_train_res, y_train_res)\n",
        "\n",
        "# 예측\n",
        "y_pred_logistic = logistic_model.predict(X_test)\n",
        "\n",
        "# 평가\n",
        "accuracy_logistic = accuracy_score(y_test, y_pred_logistic)\n",
        "print(f\"Logistic Regression Accuracy: {accuracy_logistic:.2f}\")"
      ],
      "metadata": {
        "colab": {
          "base_uri": "https://localhost:8080/"
        },
        "id": "OtHcq3y-3zJP",
        "outputId": "842e46f5-a7bb-4b7c-bdd4-725feba64d0b"
      },
      "execution_count": 8,
      "outputs": [
        {
          "output_type": "stream",
          "name": "stdout",
          "text": [
            "Logistic Regression Accuracy: 0.68\n"
          ]
        }
      ]
    },
    {
      "cell_type": "markdown",
      "source": [
        "### 2-2. 모든 피쳐를 사용하여 XGBoost 모델 학습"
      ],
      "metadata": {
        "id": "BEXQ6Ho92gwk"
      }
    },
    {
      "cell_type": "code",
      "source": [
        "# 모든 피쳐를 사용하여 XGBoost 모델 학습\n",
        "model_xgb = xgb.XGBClassifier(random_state=42, n_estimators=300, max_depth=8, learning_rate=0.1)\n",
        "model_xgb.fit(X_train_res, y_train_res)\n",
        "\n",
        "# 평가\n",
        "y_pred_xgb = model_xgb.predict(X_test)\n",
        "accuracy_xgb = accuracy_score(y_test, y_pred_xgb)\n",
        "print(\"XGBoost Model with All Features Accuracy:\", accuracy_xgb)"
      ],
      "metadata": {
        "colab": {
          "base_uri": "https://localhost:8080/"
        },
        "id": "hbUtyrWN36Jy",
        "outputId": "cacaf4dc-8f8f-4b55-d6a6-e3ea70c928e9"
      },
      "execution_count": 9,
      "outputs": [
        {
          "output_type": "stream",
          "name": "stdout",
          "text": [
            "XGBoost Model with All Features Accuracy: 0.7608695652173914\n"
          ]
        }
      ]
    },
    {
      "cell_type": "code",
      "source": [
        "# F1 Score 계산\n",
        "f1 = f1_score(y_test, y_pred_xgb, average='weighted')  # 평균 방식 선택 가능 ('weighted', 'macro', 'micro')\n",
        "print(f\"F1 Score: {f1:.4f}\")\n",
        "\n",
        "# Recall 계산\n",
        "recall = recall_score(y_test, y_pred_xgb, average='weighted')\n",
        "print(f\"Recall: {recall:.4f}\")\n",
        "\n",
        "# Classification Report 출력 (전체 메트릭 요약)\n",
        "report = classification_report(y_test, y_pred_xgb)\n",
        "print(\"Classification Report:\")\n",
        "print(report)"
      ],
      "metadata": {
        "colab": {
          "base_uri": "https://localhost:8080/"
        },
        "id": "0kSDy7Rch6lq",
        "outputId": "7339a94e-7da6-4b77-f488-dc3a5320ae47"
      },
      "execution_count": 10,
      "outputs": [
        {
          "output_type": "stream",
          "name": "stdout",
          "text": [
            "F1 Score: 0.7615\n",
            "Recall: 0.7609\n",
            "Classification Report:\n",
            "              precision    recall  f1-score   support\n",
            "\n",
            "           0       0.82      0.73      0.77       255\n",
            "           1       0.70      0.80      0.75       205\n",
            "\n",
            "    accuracy                           0.76       460\n",
            "   macro avg       0.76      0.77      0.76       460\n",
            "weighted avg       0.77      0.76      0.76       460\n",
            "\n"
          ]
        }
      ]
    },
    {
      "cell_type": "markdown",
      "source": [
        "# **3. feature 선별하기**\n",
        "\n",
        "피쳐가 너무 많을 경우, 과적합의 가능성 혹은 아예 데이터의 평균적인 분포를 학습하지 못 할 가능성이 존재한다.\n",
        "\n",
        "따라서 예측하고자 하는 Label과의 상관관계가 가장 높은 몇 가지의 피쳐를 선별하여 학습을 해본다."
      ],
      "metadata": {
        "id": "ryHmH4BA2u9j"
      }
    },
    {
      "cell_type": "code",
      "source": [
        "# Feature Importance 기반 중요한 피쳐 선별\n",
        "print(\"\\n--- Feature Importance 기반 중요한 피쳐 선별 ---\")\n",
        "feature_importances = model_xgb.feature_importances_\n",
        "important_features = [\n",
        "    features_all[i] for i in range(len(features_all))\n",
        "    if feature_importances[i] > np.mean(feature_importances)\n",
        "    and features_all[i] != \"NextYearSalary\"  # 제외 조건 추가\n",
        "    and features_all[i] != \"Salary\"\n",
        "]\n",
        "print(\"Selected Important Features:\", important_features)"
      ],
      "metadata": {
        "colab": {
          "base_uri": "https://localhost:8080/"
        },
        "id": "v2hCdpaR3_u_",
        "outputId": "cddd0864-672f-417e-cdbf-5d5c0f8ed74a"
      },
      "execution_count": 31,
      "outputs": [
        {
          "output_type": "stream",
          "name": "stdout",
          "text": [
            "\n",
            "--- Feature Importance 기반 중요한 피쳐 선별 ---\n",
            "Selected Important Features: ['Year', 'Age', 'HD', 'TBF', 'H', 'ERA', 'rRA9', 'WAR', 'TB', 'OBP', 'Team_Salary_Ratio']\n"
          ]
        }
      ]
    },
    {
      "cell_type": "code",
      "source": [
        "X_important = DATA[important_features]\n",
        "\n",
        "X_train_imp, X_test_imp, y_train_imp, y_test_imp = train_test_split(X_important, y, test_size=0.2, random_state=42, stratify=y)\n",
        "\n",
        "X_train_imp = scaler.fit_transform(X_train_imp)\n",
        "X_test_imp = scaler.transform(X_test_imp)\n",
        "\n",
        "# 클래스 불균형 처리\n",
        "X_train_imp_res, y_train_imp_res = SMOTEENN(random_state=42).fit_resample(X_train_imp, y_train_imp)"
      ],
      "metadata": {
        "id": "ehg7Vroh4TYI"
      },
      "execution_count": 32,
      "outputs": []
    },
    {
      "cell_type": "markdown",
      "source": [
        "(클래스 분포 살펴보기)\n",
        "\n",
        "모든 피쳐를 사용했을 때 보다 몇 개의 피쳐를 사용했을 때 클래스의 분포가 조금 더 비슷해짐"
      ],
      "metadata": {
        "id": "KJEgSR1PhR-n"
      }
    },
    {
      "cell_type": "code",
      "source": [
        "class_counts_train = pd.Series(y_train_imp_res).value_counts()\n",
        "class_counts_test = pd.Series(y_test_imp).value_counts()\n",
        "print(f\"\\nClass Distribution in Training Data:\\n{class_counts_train}\")\n",
        "print(f\"Class Distribution in Test Data:\\n{class_counts_test}\")\n",
        "\n",
        "# 클래스에 따른 데이터 개수 분포 그래프 그리기\n",
        "plt.figure(figsize=(10, 5))\n",
        "sns.barplot(x=class_counts_train.index, y=class_counts_train.values, palette='viridis')\n",
        "plt.title('Class Distribution in Training Data')\n",
        "plt.xlabel('Class Label')\n",
        "plt.ylabel('Count')\n",
        "plt.grid(axis='y', linestyle='--', alpha=0.7)\n",
        "plt.show()\n"
      ],
      "metadata": {
        "colab": {
          "base_uri": "https://localhost:8080/",
          "height": 806
        },
        "id": "vxmXvyHM8Niq",
        "outputId": "e1d036cf-5666-4cb1-e451-f65490dfdd75"
      },
      "execution_count": 33,
      "outputs": [
        {
          "output_type": "stream",
          "name": "stdout",
          "text": [
            "\n",
            "Class Distribution in Training Data:\n",
            "Label\n",
            "1    508\n",
            "0    454\n",
            "Name: count, dtype: int64\n",
            "Class Distribution in Test Data:\n",
            "Label\n",
            "0    255\n",
            "1    205\n",
            "Name: count, dtype: int64\n"
          ]
        },
        {
          "output_type": "stream",
          "name": "stderr",
          "text": [
            "<ipython-input-33-4d419b0b101e>:8: FutureWarning: \n",
            "\n",
            "Passing `palette` without assigning `hue` is deprecated and will be removed in v0.14.0. Assign the `x` variable to `hue` and set `legend=False` for the same effect.\n",
            "\n",
            "  sns.barplot(x=class_counts_train.index, y=class_counts_train.values, palette='viridis')\n"
          ]
        },
        {
          "output_type": "display_data",
          "data": {
            "text/plain": [
              "<Figure size 1000x500 with 1 Axes>"
            ],
            "image/png": "[encoded data removed]"
          },
          "metadata": {}
        }
      ]
    },
    {
      "cell_type": "markdown",
      "source": [
        "# **4. 선별한 feature를 사용하여 일반 회귀 모델 재학습**"
      ],
      "metadata": {
        "id": "c9Ms5Wor2zgg"
      }
    },
    {
      "cell_type": "markdown",
      "source": [
        "### 4-1. Logistic Regression  모델 재학습"
      ],
      "metadata": {
        "id": "9gOSuaAo4YUh"
      }
    },
    {
      "cell_type": "code",
      "source": [
        "logistic_model_imp = LogisticRegression()\n",
        "logistic_model_imp.fit(X_train_imp_res, y_train_imp_res)\n",
        "\n",
        "# 예측\n",
        "y_pred_logistic = logistic_model_imp.predict(X_test_imp)\n",
        "\n",
        "# 평가\n",
        "accuracy_logistic_imp = accuracy_score(y_test_imp, y_pred_logistic)\n",
        "print(f\"Logistic Regression Accuracy: {accuracy_logistic_imp:.2f}\")"
      ],
      "metadata": {
        "colab": {
          "base_uri": "https://localhost:8080/"
        },
        "id": "gcU__P0M4PqS",
        "outputId": "f1e91b1f-4da9-4292-e0b1-224c624eb3db"
      },
      "execution_count": 34,
      "outputs": [
        {
          "output_type": "stream",
          "name": "stdout",
          "text": [
            "Logistic Regression Accuracy: 0.68\n"
          ]
        }
      ]
    },
    {
      "cell_type": "markdown",
      "source": [
        "### 4-2. XGBoost 모델 재학습"
      ],
      "metadata": {
        "id": "cShw54dm9LAV"
      }
    },
    {
      "cell_type": "code",
      "source": [
        "model_xgb_imp = xgb.XGBClassifier(random_state=42, n_estimators=300, max_depth=8, learning_rate=0.05)\n",
        "model_xgb_imp.fit(X_train_imp_res, y_train_imp_res)\n",
        "\n",
        "# 평가\n",
        "y_pred_xgb_imp = model_xgb_imp.predict(X_test_imp)\n",
        "accuracy_xgb_imp = accuracy_score(y_test_imp, y_pred_xgb_imp)\n",
        "print(\"XGBoost Model with Important Features Accuracy:\", accuracy_xgb_imp)"
      ],
      "metadata": {
        "colab": {
          "base_uri": "https://localhost:8080/"
        },
        "id": "_11LDH764cD5",
        "outputId": "63ea7c97-d218-42a5-ed30-0a033bb0e23b"
      },
      "execution_count": 35,
      "outputs": [
        {
          "output_type": "stream",
          "name": "stdout",
          "text": [
            "XGBoost Model with Important Features Accuracy: 0.7521739130434782\n"
          ]
        }
      ]
    },
    {
      "cell_type": "code",
      "source": [
        "# F1 Score 계산\n",
        "f1 = f1_score(y_test_imp, y_pred_xgb_imp, average='weighted')  # 평균 방식 선택 가능 ('weighted', 'macro', 'micro')\n",
        "print(f\"F1 Score: {f1:.4f}\")\n",
        "\n",
        "# Recall 계산\n",
        "recall = recall_score(y_test_imp, y_pred_xgb_imp, average='weighted')\n",
        "print(f\"Recall: {recall:.4f}\")\n",
        "\n",
        "# Classification Report 출력 (전체 메트릭 요약)\n",
        "report = classification_report(y_test_imp, y_pred_xgb_imp)\n",
        "print(\"Classification Report:\")\n",
        "print(report)\n"
      ],
      "metadata": {
        "colab": {
          "base_uri": "https://localhost:8080/"
        },
        "id": "5S9CU7Kn7swF",
        "outputId": "21c21e28-a5f8-49f0-ae3b-d96856697e74"
      },
      "execution_count": 36,
      "outputs": [
        {
          "output_type": "stream",
          "name": "stdout",
          "text": [
            "F1 Score: 0.7528\n",
            "Recall: 0.7522\n",
            "Classification Report:\n",
            "              precision    recall  f1-score   support\n",
            "\n",
            "           0       0.82      0.71      0.76       255\n",
            "           1       0.69      0.81      0.74       205\n",
            "\n",
            "    accuracy                           0.75       460\n",
            "   macro avg       0.76      0.76      0.75       460\n",
            "weighted avg       0.76      0.75      0.75       460\n",
            "\n"
          ]
        }
      ]
    },
    {
      "cell_type": "markdown",
      "source": [
        "# **5. 결과 요약**"
      ],
      "metadata": {
        "id": "2dxgHV3O4g7I"
      }
    },
    {
      "cell_type": "code",
      "source": [
        "# 결과 요약\n",
        "print(\"\\n--- 성능 요약 ---\")\n",
        "print(f\"Linear Regression with All Features MSE: {accuracy_logistic:.2f}\")\n",
        "print(f\"XGBoost Model with All Features Accuracy: {accuracy_xgb:.2f}\")\n",
        "print(f\"Linear Regression with Important Features MSE: {accuracy_logistic_imp:.2f}\")\n",
        "print(f\"XGBoost Model with Important Features Accuracy: {accuracy_xgb_imp:.2f}\")"
      ],
      "metadata": {
        "colab": {
          "base_uri": "https://localhost:8080/"
        },
        "id": "LTJJlRhy4h2L",
        "outputId": "b1955642-5853-4232-8772-964b3b3cb332"
      },
      "execution_count": 37,
      "outputs": [
        {
          "output_type": "stream",
          "name": "stdout",
          "text": [
            "\n",
            "--- 성능 요약 ---\n",
            "Linear Regression with All Features MSE: 0.68\n",
            "XGBoost Model with All Features Accuracy: 0.76\n",
            "Linear Regression with Important Features MSE: 0.68\n",
            "XGBoost Model with Important Features Accuracy: 0.75\n"
          ]
        }
      ]
    },
    {
      "cell_type": "markdown",
      "source": [
        "큰 성능 개선은 보이지 않았다.\n",
        "\n",
        "그 이유를 추론해보면....\n",
        "1. 야구 선수의 연봉은 능력뿐만 아닌 외부의 요인이 강하게 작용\n",
        "\n",
        "2. 적은 데이터 개수\n",
        "\n",
        "3. outlier : 성적은 부진하지만 오랫동안 활동한 선수인 경우, 높은 연봉을 받는 선수들이 간혹 존재\n",
        "\n",
        "=> 때문에 상승/하락(유지)의 분류의 성능은 나쁘지 않지만, 어느 정도 이상의 성능을 기대하기 어렵다는 것을 알 수 있음\n",
        "\n",
        "=> 더 나아가, 선수의 연봉을 회귀 방식을 활용하여 예측하는 것은 굉장히 어려울 것임을 알 수 있음"
      ],
      "metadata": {
        "id": "OMhDHPOa689t"
      }
    },
    {
      "cell_type": "markdown",
      "source": [
        "# **6. 성능 확인**"
      ],
      "metadata": {
        "id": "_KBmiT8JBUwB"
      }
    },
    {
      "cell_type": "code",
      "source": [
        "team_salary_sum = DATA.groupby('Team')['Salary'].sum()\n",
        "\n",
        "def preprocess_and_predict(input_data, team_salary_sum_dict, scaler, model, important_features):\n",
        "    \"\"\"\n",
        "    입력 데이터를 전처리하고 예측값을 반환하는 함수\n",
        "\n",
        "    Parameters:\n",
        "    - input_data: dict, 입력 데이터\n",
        "    - label_encoder: LabelEncoder 객체, 팀 이름을 숫자로 변환\n",
        "    - team_salary_sum_dict: dict, 팀별 연봉 합 딕셔너리\n",
        "    - scaler: StandardScaler 객체, 데이터 정규화\n",
        "    - model: XGBoost 모델 객체, 학습된 모델\n",
        "    - important_features: list, 모델 학습에 사용된 중요한 피처 리스트\n",
        "\n",
        "    Returns:\n",
        "    - y_pred: 예측값\n",
        "    \"\"\"\n",
        "    # 1. Team Encoding\n",
        "    team_value = input_data['Team']  # 인코딩된 값 그대로 사용\n",
        "    #input_data['Team'] = label_encoder.transform([input_data['Team']])[0]\n",
        "\n",
        "    # 2. Salary 변환\n",
        "    input_data['Salary'] = pd.to_numeric(input_data['Salary'], errors='coerce')\n",
        "\n",
        "    # 3. Team Total Salary 계산\n",
        "    if team_value in team_salary_sum_dict:\n",
        "        team_total_salary = team_salary_sum_dict[team_value]\n",
        "    else:\n",
        "        print(f\"팀 '{team_value}'에 대한 연봉 데이터가 없습니다.\")\n",
        "        team_total_salary = 1e-9  # 기본값 사용 (0으로 나누기 방지)\n",
        "\n",
        "    input_data['TeamTotalSalary'] = team_total_salary\n",
        "\n",
        "    # 4. 추가 Feature 계산\n",
        "    input_data['Team_Salary_Ratio'] = input_data['Salary'] / input_data['TeamTotalSalary']\n",
        "    input_data['Age_WAR_Interaction'] = input_data['Age'] * input_data['WAR']\n",
        "    input_data['Salary_TeamRatio_Interaction'] = input_data['Salary'] * input_data['Team_Salary_Ratio']\n",
        "\n",
        "    # 5. DataFrame 변환 및 Feature 선택\n",
        "    input_df = pd.DataFrame([input_data])\n",
        "    input_df = input_df[important_features]\n",
        "\n",
        "    # 6. 스케일링 적용\n",
        "    input_scaled = scaler.transform(input_df)\n",
        "\n",
        "    # 7. 예측\n",
        "    y_pred = model.predict(input_scaled)\n",
        "\n",
        "    return y_pred"
      ],
      "metadata": {
        "id": "2bWQ8zet8aRv"
      },
      "execution_count": 24,
      "outputs": []
    },
    {
      "cell_type": "code",
      "source": [
        "input = {\n",
        "    \"Year\": 2020,\n",
        "    \"Team\": \"삼성\",\n",
        "    \"Age\": 35,\n",
        "    \"Pos.\": \"P\",\n",
        "    \"G\": 52,\n",
        "    \"GS\": 0,\n",
        "    \"GR\": 52,\n",
        "    \"GF\": 17,\n",
        "    \"CG\": 0,\n",
        "    \"SHO\": 0,\n",
        "    \"W\": 3,\n",
        "    \"L\": 3,\n",
        "    \"S\": 7,\n",
        "    \"HD\": 11,\n",
        "    \"IP\": 48.0,\n",
        "    \"ER\": 33,\n",
        "    \"R\": 34,\n",
        "    \"rRA\": 31.30,\n",
        "    \"TBF\": 210,\n",
        "    \"H\": 61,\n",
        "    \"2B\": 10,\n",
        "    \"3B\": 1,\n",
        "    \"HR\": 3,\n",
        "    \"BB\": 9,\n",
        "    \"HP\": 1,\n",
        "    \"IB\": 1,\n",
        "    \"SO\": 30,\n",
        "    \"ROE\": 0,\n",
        "    \"BK\": 0,\n",
        "    \"WP\": 0,\n",
        "    \"ERA\": 6.19,\n",
        "    \"RA9\": 6.38,\n",
        "    \"rRA9\": 5.87,\n",
        "    \"FIP\": 3.76,\n",
        "    \"WHIP\": 1.46,\n",
        "    \"WAR\": 0.50,\n",
        "    'Salary': 70000,\n",
        "    'AB': 0,\n",
        "    'TB': 0,\n",
        "    'SLG': 0,\n",
        "    'OBP': 0\n",
        "}\n",
        "\n",
        "input['Team'] = label_encoder.transform([input['Team']])[0]"
      ],
      "metadata": {
        "id": "x6GlFUU7GWKg"
      },
      "execution_count": 25,
      "outputs": []
    },
    {
      "cell_type": "code",
      "source": [
        "prdiction = preprocess_and_predict(input, team_salary_sum, scaler, model_xgb_imp, important_features)\n",
        "\n",
        "print(prdiction)"
      ],
      "metadata": {
        "colab": {
          "base_uri": "https://localhost:8080/"
        },
        "id": "t7fs7L0g-aBL",
        "outputId": "7629f77d-7159-449d-abd2-e17068d4dc6d"
      },
      "execution_count": 26,
      "outputs": [
        {
          "output_type": "stream",
          "name": "stdout",
          "text": [
            "[0]\n"
          ]
        }
      ]
    },
    {
      "cell_type": "markdown",
      "source": [
        "=> 실제로 KT의 우규민 선수는 2020년 70,000의 연봉에서 2021년 20,000으로 감소했다."
      ],
      "metadata": {
        "id": "2QYSllJrKXUy"
      }
    },
    {
      "cell_type": "markdown",
      "source": [
        "\n",
        "\n",
        "---\n",
        "\n"
      ],
      "metadata": {
        "id": "RSAHO2kbMMmi"
      }
    },
    {
      "cell_type": "code",
      "source": [
        "input = {\n",
        "    \"Year\": 2023,\n",
        "    \"Team\": \"삼성\",\n",
        "    \"Age\": 38,\n",
        "    \"Pos.\": \"P\",\n",
        "    \"G\": 56,\n",
        "    \"GS\": 0,\n",
        "    \"GR\": 56,\n",
        "    \"GF\": 4,\n",
        "    \"CG\": 0,\n",
        "    \"SHO\": 0,\n",
        "    \"W\": 3,\n",
        "    \"L\": 1,\n",
        "    \"S\": 0,\n",
        "    \"HD\": 13,\n",
        "    \"IP\": 43.0,\n",
        "    \"ER\": 23,\n",
        "    \"R\": 25,\n",
        "    \"rRA\": 25.25,\n",
        "    \"TBF\": 188,\n",
        "    \"H\": 55,\n",
        "    \"2B\": 9,\n",
        "    \"3B\": 0,\n",
        "    \"HR\": 3,\n",
        "    \"BB\": 5,\n",
        "    \"HP\": 3,\n",
        "    \"IB\": 0,\n",
        "    \"SO\": 28,\n",
        "    \"ROE\": 1,\n",
        "    \"BK\": 0,\n",
        "    \"WP\": 0,\n",
        "    \"ERA\": 4.81,\n",
        "    \"RA9\": 5.23,\n",
        "    \"rRA9\": 5.28,\n",
        "    \"FIP\": 3.63,\n",
        "    \"WHIP\": 1.40,\n",
        "    \"WAR\": 0.27,\n",
        "    'Salary': 25000,\n",
        "    'AB': 0,\n",
        "    'TB': 0,\n",
        "    'SLG': 0,\n",
        "    'OBP': 0\n",
        "}\n",
        "\n",
        "input['Team'] = label_encoder.transform([input['Team']])[0]"
      ],
      "metadata": {
        "id": "WYbgBpDZML_7"
      },
      "execution_count": 27,
      "outputs": []
    },
    {
      "cell_type": "code",
      "source": [
        "prdiction = preprocess_and_predict(input, team_salary_sum, scaler, model_xgb_imp, important_features)\n",
        "\n",
        "print(prdiction)"
      ],
      "metadata": {
        "colab": {
          "base_uri": "https://localhost:8080/"
        },
        "id": "xcwHQr4T-xWm",
        "outputId": "dd28360b-02ff-4474-d21c-28484fe455da"
      },
      "execution_count": 28,
      "outputs": [
        {
          "output_type": "stream",
          "name": "stdout",
          "text": [
            "[0]\n"
          ]
        }
      ]
    },
    {
      "cell_type": "markdown",
      "source": [
        "=> 실제로 우규민 선수는 2023년 25,000에서 2024년 22,000으로 감소했다."
      ],
      "metadata": {
        "id": "HX1hkiiFM44k"
      }
    },
    {
      "cell_type": "code",
      "source": [
        "input = {\n",
        "    \"Year\": 2015,\n",
        "    \"Team\": \"LG\",\n",
        "    \"Age\": 30,\n",
        "    \"Pos.\": \"P\",\n",
        "    \"G\": 25,\n",
        "    \"GS\": 25,\n",
        "    \"GR\": 0,\n",
        "    \"GF\": 1,\n",
        "    \"CG\": 1,\n",
        "    \"SHO\": 0,\n",
        "    \"W\": 11,\n",
        "    \"L\": 9,\n",
        "    \"S\": 0,\n",
        "    \"HD\": 0,\n",
        "    \"IP\": 152.2,\n",
        "    \"ER\": 58,\n",
        "    \"R\": 64,\n",
        "    \"rRA\": 60.10,\n",
        "    \"TBF\": 621,\n",
        "    \"H\": 163,\n",
        "    \"2B\": 26,\n",
        "    \"3B\": 5,\n",
        "    \"HR\": 13,\n",
        "    \"BB\": 17,\n",
        "    \"HP\": 12,\n",
        "    \"IB\": 0,\n",
        "    \"SO\": 119,\n",
        "    \"ROE\": 4,\n",
        "    \"BK\": 0,\n",
        "    \"WP\": 2,\n",
        "    \"ERA\": 3.42,\n",
        "    \"RA9\": 3.77,\n",
        "    \"rRA9\": 3.54,\n",
        "    \"FIP\": 3.75,\n",
        "    \"WHIP\": 1.18,\n",
        "    \"WAR\": 0.21,\n",
        "    'Salary': 30000,\n",
        "    'AB': 0,\n",
        "    'TB': 0,\n",
        "    'SLG': 0,\n",
        "    'OBP': 0,\n",
        "}\n",
        "\n",
        "input['Team'] = label_encoder.transform([input['Team']])[0]"
      ],
      "metadata": {
        "id": "42GKuvYxNJpt"
      },
      "execution_count": 29,
      "outputs": []
    },
    {
      "cell_type": "code",
      "source": [
        "prediction = preprocess_and_predict(input, team_salary_sum, scaler, model_xgb_imp, important_features)\n",
        "\n",
        "print(prediction)"
      ],
      "metadata": {
        "colab": {
          "base_uri": "https://localhost:8080/"
        },
        "id": "ZqGjn1pU-1cU",
        "outputId": "41da25ec-9a34-4493-eb67-002255087663"
      },
      "execution_count": 30,
      "outputs": [
        {
          "output_type": "stream",
          "name": "stdout",
          "text": [
            "[1]\n"
          ]
        }
      ]
    },
    {
      "cell_type": "markdown",
      "source": [
        "=> 실제 유구민 선수는 2015년에서 30,000에서 2016년 40,000으로 증가했다."
      ],
      "metadata": {
        "id": "2vPpzZMVjhU2"
      }
    },
    {
      "cell_type": "markdown",
      "source": [
        "# **7. 2025년도 선수들의 연봉 상승 여부 예측**"
      ],
      "metadata": {
        "id": "_6bwIq0Y4lQ2"
      }
    },
    {
      "cell_type": "code",
      "source": [
        "# 새로운 데이터 예측\n",
        "data_2024_path = '/content/drive/MyDrive/Colab Notebooks/combined_fielder_pitcher_2024_with_label.csv'\n",
        "data_2024 = pd.read_csv(data_2024_path)\n",
        "\n",
        "# 데이터 전처리\n",
        "data_2024.replace('-', pd.NA, inplace=True)\n",
        "data_2024['Salary'] = pd.to_numeric(data_2024['Salary'], errors='coerce')\n",
        "numeric_cols = data_2024.select_dtypes(include=['number']).columns\n",
        "#data_2024[numeric_cols] = data_2024[numeric_cols].fillna(data_2024[numeric_cols].mean())\n",
        "data_2024.loc[:, numeric_cols] = data_2024[numeric_cols].fillna(0)\n",
        "\n",
        "# 팀이름 인코딩\n",
        "data_2024['Team'] = label_encoder.fit_transform(data_2024['Team'])\n",
        "\n",
        "# 팀별 연봉 합산\n",
        "team_salary_sum = data_2024.groupby('Team')['Salary'].sum()\n",
        "\n",
        "\n",
        "# 예측 결과 생성\n",
        "predictions = []\n",
        "\n",
        "\n",
        "for _, row in data_2024.iterrows():\n",
        "    input_data = row.to_dict()  # 각 행을 딕셔너리로 변환\n",
        "    pred = preprocess_and_predict(input_data, team_salary_sum, scaler, model_xgb_imp, important_features)\n",
        "    predictions.append(pred[0])  # 예측값 추가\n",
        "\n",
        "# 예측 결과 저장\n",
        "data_2024['Predicted_Label'] = predictions\n",
        "output_path = '/content/drive/MyDrive/Colab Notebooks/pitcher_2025_salary_predictions.csv'\n",
        "data_2024[['PlayerName', 'Team', 'Year', 'Salary', 'Predicted_Label']].to_csv(output_path, index=False)\n",
        "print(\"Predictions for 2024 saved to:\", output_path)\n"
      ],
      "metadata": {
        "colab": {
          "base_uri": "https://localhost:8080/"
        },
        "outputId": "2e509a2a-df00-4915-8438-8444814cc5d0",
        "id": "Xzq-7h5a_rAs"
      },
      "execution_count": null,
      "outputs": [
        {
          "output_type": "stream",
          "name": "stdout",
          "text": [
            "Predictions for 2024 saved to: /content/drive/MyDrive/Colab Notebooks/pitcher_2025_salary_predictions.csv\n"
          ]
        }
      ]
    },
    {
      "cell_type": "code",
      "source": [],
      "metadata": {
        "id": "L5eC38iTHGvK"
      },
      "execution_count": null,
      "outputs": []
    }
  ]
}